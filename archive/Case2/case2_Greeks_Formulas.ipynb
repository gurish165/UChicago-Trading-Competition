{
 "cells": [
  {
   "cell_type": "markdown",
   "id": "3c4157a2-7717-4990-adb3-50d7e247ce37",
   "metadata": {},
   "source": [
    "# Greeks Formulas:"
   ]
  },
  {
   "cell_type": "markdown",
   "id": "2c7f2460-fd15-4894-a40e-e5264e59b762",
   "metadata": {},
   "source": [
    "## Changes:\n",
    "\n",
    "- Use BSM formulas for Delta, Gamma, Theta, Vega instead of numerical approximation.\n",
    "- Call and Put options have a MULTIPLIER of 100:\n",
    "    - This means, for instance, if you have an ATM call, which has delta 0.5, you would break the Greek limit of 2000 by holding 40 = 2000/100 * 0.5 positions.\n",
    "    - Underlying DOES NOT have this multiplier\n",
    "    - Your strategy should just scale to this if you were using the non-multiplier limit previously"
   ]
  },
  {
   "cell_type": "markdown",
   "id": "43b1784a-1a4c-438c-8fc6-d68a9a37d302",
   "metadata": {},
   "source": [
    "### Packages:"
   ]
  },
  {
   "cell_type": "code",
   "execution_count": 1,
   "id": "9e8f6e74-ad5e-46f4-8c81-2d3cc98ee6a2",
   "metadata": {},
   "outputs": [],
   "source": [
    "import numpy as np\n",
    "import pandas as pd\n",
    "from matplotlib import pyplot as plt\n",
    "from scipy.optimize import fsolve\n",
    "from scipy.stats import norm"
   ]
  },
  {
   "cell_type": "markdown",
   "id": "27aaa293-7048-438e-8056-686fa8b6ae0c",
   "metadata": {},
   "source": [
    "### BSM Set Up:"
   ]
  },
  {
   "cell_type": "code",
   "execution_count": 2,
   "id": "57b0d9c3-b50e-423a-8134-3298944bbe17",
   "metadata": {},
   "outputs": [],
   "source": [
    "# Recall BSM Formulas:\n",
    "\n",
    "def d1(S,K,T,r,sigma):\n",
    "    return(np.log(S/K)+(r+sigma**2/2.)*T)/(sigma*np.sqrt(T))\n",
    "def d2(S,K,T,r,sigma):\n",
    "    return d1(S,K,T,r,sigma)-sigma*np.sqrt(T)\n",
    "\n",
    "def bs_call(S,K,T,r,sigma):\n",
    "    return S*norm.cdf(d1(S,K,T,r,sigma))-K*np.exp(-r*T)*norm.cdf(d2(S,K,T,r,sigma))\n",
    "def bs_put(S,K,T,r,sigma):\n",
    "    return K*np.exp(-r*T)-S+bs_call(S,K,T,r,sigma)"
   ]
  },
  {
   "cell_type": "code",
   "execution_count": 3,
   "id": "fc66abd6-440c-481c-a034-a0441e4b0f22",
   "metadata": {},
   "outputs": [],
   "source": [
    "# Implied Volatility:\n",
    "\n",
    "def iv_call(S,K,T,r,C):\n",
    "    return max(0, fsolve((lambda sigma: np.abs(bs_call(S,K,T,r,sigma) - C)), [1])[0])\n",
    "                      \n",
    "def iv_put(S,K,T,r,P):\n",
    "    return max(0, fsolve((lambda sigma: np.abs(bs_put(S,K,T,r,sigma) - P)), [1])[0])"
   ]
  },
  {
   "cell_type": "markdown",
   "id": "87d0545e-df71-42ba-9d04-2fc2b06fbba6",
   "metadata": {},
   "source": [
    "### Defining the Greeks"
   ]
  },
  {
   "cell_type": "markdown",
   "id": "1315799a-dc92-491b-83ce-656a1dcd2b1a",
   "metadata": {},
   "source": [
    "- Remember $r = 0$ for this case, so we're not considering $\\rho$ here. All formulas below assume that $r = 0$.\n",
    "- Recall that for a share of the underlying, delta = 1, and the rest of the Greeks are zero\n",
    "- Recall for a zero-coupon bond, all Greeks are zero (fixed payout)"
   ]
  },
  {
   "cell_type": "code",
   "execution_count": 4,
   "id": "d07275fd-abbc-4028-806b-65a82af19c81",
   "metadata": {},
   "outputs": [],
   "source": [
    "def delta_call(S,K,T,C):\n",
    "    sigma = iv_call(S,K,T,0,C)\n",
    "    return 100 * norm.cdf(d1(S,K,T,0,sigma))"
   ]
  },
  {
   "cell_type": "code",
   "execution_count": 5,
   "id": "70e5217c-adba-4006-a35e-c48b54cc0e92",
   "metadata": {},
   "outputs": [],
   "source": [
    "def gamma_call(S,K,T,C):\n",
    "    sigma = iv_call(S,K,T,0,C)\n",
    "    return 100 * norm.pdf(d1(S,K,T,0,sigma))/(S * sigma * np.sqrt(T))"
   ]
  },
  {
   "cell_type": "code",
   "execution_count": 6,
   "id": "968c6e50-6234-4cea-8c4e-f9b6f2b7dae2",
   "metadata": {},
   "outputs": [],
   "source": [
    "def vega_call(S,K,T,C):\n",
    "    sigma = iv_call(S,K,T,0,C)\n",
    "    return 100 * norm.pdf(d1(S,K,T,0,sigma)) * S * np.sqrt(T)"
   ]
  },
  {
   "cell_type": "code",
   "execution_count": 7,
   "id": "dd501ab1-4378-4eff-93ee-1ad796173cb8",
   "metadata": {},
   "outputs": [],
   "source": [
    "def theta_call(S,K,T,C):\n",
    "    sigma = iv_call(S,K,T,0,C)\n",
    "    return 100 * S * norm.pdf(d1(S,K,T,0,sigma)) * sigma/(2 * np.sqrt(T))"
   ]
  },
  {
   "cell_type": "code",
   "execution_count": 8,
   "id": "30d676ec-8e18-4e8f-8aed-4210700534a6",
   "metadata": {},
   "outputs": [],
   "source": [
    "def delta_put(S,K,T,C):\n",
    "    sigma = iv_put(S,K,T,0,C)\n",
    "    return 100 * (norm.cdf(d1(S,K,T,0,sigma)) - 1)"
   ]
  },
  {
   "cell_type": "code",
   "execution_count": 9,
   "id": "cc2103e5-b0b4-4497-8ee6-eae2fbb4f29c",
   "metadata": {},
   "outputs": [],
   "source": [
    "def gamma_put(S,K,T,C):\n",
    "    sigma = iv_put(S,K,T,0,C)\n",
    "    return 100 * norm.pdf(d1(S,K,T,0,sigma))/(S * sigma * np.sqrt(T))"
   ]
  },
  {
   "cell_type": "code",
   "execution_count": 10,
   "id": "64fa61b6-695c-44f8-8581-276a5258f895",
   "metadata": {},
   "outputs": [],
   "source": [
    "def vega_put(S,K,T,C):\n",
    "    sigma = iv_put(S,K,T,0,C)\n",
    "    return 100 * norm.pdf(d1(S,K,T,0,sigma)) * S * np.sqrt(T)"
   ]
  },
  {
   "cell_type": "code",
   "execution_count": 11,
   "id": "a7397e3e-9a45-45db-a786-f250edfb0903",
   "metadata": {},
   "outputs": [],
   "source": [
    "def theta_put(S,K,T,C):\n",
    "    sigma = iv_put(S,K,T,0,C)\n",
    "    return 100 * S * norm.pdf(d1(S,K,T,0,sigma)) * sigma/(2 * np.sqrt(T))"
   ]
  },
  {
   "cell_type": "markdown",
   "id": "212fad24-1cd8-468d-a1f5-733ef3eb6e16",
   "metadata": {},
   "source": [
    "### Example:\n",
    "S = 100, K = 95, T = 25/252, call price = 10, put price = 1"
   ]
  },
  {
   "cell_type": "code",
   "execution_count": 12,
   "id": "0a9a2b28-b45d-46e5-943b-5a99ea0a4f22",
   "metadata": {},
   "outputs": [
    {
     "data": {
      "text/plain": [
       "(0.5908281373503532, 0.23054497261031975)"
      ]
     },
     "execution_count": 12,
     "metadata": {},
     "output_type": "execute_result"
    }
   ],
   "source": [
    "# IV (note that the call and put are in unrelated markets, this is just to show how to use the formulas)\n",
    "iv_call(100,95,25/252,0,10), iv_put(100,95,25/252,0,1)"
   ]
  },
  {
   "cell_type": "code",
   "execution_count": 13,
   "id": "8018c2e3-9816-46e3-9ed9-da4e1df2c160",
   "metadata": {},
   "outputs": [
    {
     "data": {
      "text/plain": [
       "array([6.43816394e+01, 2.00292017e+00, 3.49587572e+03, 1.17398968e+03])"
      ]
     },
     "execution_count": 13,
     "metadata": {},
     "output_type": "execute_result"
    }
   ],
   "source": [
    "# Call values\n",
    "vals1 = np.array([delta_call(100,95,25/252,10), gamma_call(100,95,25/252,10), theta_call(100,95,25/252,10), vega_call(100,95,25/252,10)])\n",
    "vals1"
   ]
  },
  {
   "cell_type": "code",
   "execution_count": 14,
   "id": "5bfe6b47-767c-4b7e-8a26-dd35687e9d43",
   "metadata": {},
   "outputs": [
    {
     "data": {
      "text/plain": [
       "array([ -22.88370455,    4.16976207, 1108.13479467,  953.68817774])"
      ]
     },
     "execution_count": 14,
     "metadata": {},
     "output_type": "execute_result"
    }
   ],
   "source": [
    "# Put values\n",
    "vals2 = np.array([delta_put(100,95,25/252,1), gamma_put(100,95,25/252,1), theta_put(100,95,25/252,1), vega_put(100,95,25/252,1)])\n",
    "vals2"
   ]
  },
  {
   "cell_type": "code",
   "execution_count": 15,
   "id": "d5812b7d-4a93-4ff3-9908-9f3a0df001c6",
   "metadata": {},
   "outputs": [
    {
     "data": {
      "text/plain": [
       "array([  4149.79348254,    617.26822481, 460401.05144349, 212767.78559954])"
      ]
     },
     "execution_count": 15,
     "metadata": {},
     "output_type": "execute_result"
    }
   ],
   "source": [
    "# Say we want to do hold a 100 straddles as a trading strategy\n",
    "# and we happen to (poorly) price the calls and puts as above\n",
    "# The corresponding Greeks for the straddle would be:\n",
    "vals_strat = (vals1 + vals2) * 100\n",
    "vals_strat"
   ]
  },
  {
   "cell_type": "code",
   "execution_count": 16,
   "id": "f858d252-bf33-4be8-86fe-54e3f8a32d87",
   "metadata": {},
   "outputs": [
    {
     "data": {
      "text/plain": [
       "[False, True, True, True]"
      ]
     },
     "execution_count": 16,
     "metadata": {},
     "output_type": "execute_result"
    }
   ],
   "source": [
    "# To test if our strategy is not breaking risk limits:\n",
    "[vals_strat[0] < 2000, vals_strat[1] < 5000, vals_strat[2] < 1000000, vals_strat[3] < 500000]"
   ]
  },
  {
   "cell_type": "markdown",
   "id": "05cc2e24-1d6d-4a44-b075-7d9852940154",
   "metadata": {},
   "source": [
    "We broke our delta limit, so the strategy isn't viable"
   ]
  }
 ],
 "metadata": {
  "kernelspec": {
   "display_name": "Python 3",
   "language": "python",
   "name": "python3"
  },
  "language_info": {
   "codemirror_mode": {
    "name": "ipython",
    "version": 3
   },
   "file_extension": ".py",
   "mimetype": "text/x-python",
   "name": "python",
   "nbconvert_exporter": "python",
   "pygments_lexer": "ipython3",
   "version": "3.8.8"
  }
 },
 "nbformat": 4,
 "nbformat_minor": 5
}
